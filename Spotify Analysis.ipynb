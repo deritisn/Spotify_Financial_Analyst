{
 "cells": [
  {
   "cell_type": "code",
   "execution_count": 3,
   "metadata": {},
   "outputs": [],
   "source": [
    "# Main script\n",
    "from FinanceAPI import *\n",
    "# Other libraries\n",
    "import numpy as np\n",
    "import pandas as pd\n",
    "import matplotlib.pyplot as plt\n",
    "import json\n",
    "from urllib.request import urlopen"
   ]
  },
  {
   "cell_type": "code",
   "execution_count": 4,
   "metadata": {},
   "outputs": [],
   "source": [
    "with open(r'C:\\Users\\Nick.DeRitis\\OneDrive - Travelopia USA Inc\\Zegrahm & IE\\Python\\Spotify Analysis\\Secret_Key.txt') as f:\n",
    "    key = f.read()"
   ]
  },
  {
   "cell_type": "code",
   "execution_count": 5,
   "metadata": {},
   "outputs": [],
   "source": [
    "f = FinanceAPI()"
   ]
  },
  {
   "cell_type": "code",
   "execution_count": 6,
   "metadata": {},
   "outputs": [
    {
     "name": "stdout",
     "output_type": "stream",
     "text": [
      "This is a finance API class.\n",
      "\n"
     ]
    }
   ],
   "source": [
    "print(f)"
   ]
  },
  {
   "cell_type": "code",
   "execution_count": 7,
   "metadata": {},
   "outputs": [
    {
     "name": "stdout",
     "output_type": "stream",
     "text": [
      "API key not registered yet.\n"
     ]
    }
   ],
   "source": [
    "f.build_dict('SPOT')"
   ]
  },
  {
   "cell_type": "code",
   "execution_count": 8,
   "metadata": {},
   "outputs": [],
   "source": [
    "f.registerKey_(key)"
   ]
  },
  {
   "cell_type": "code",
   "execution_count": 9,
   "metadata": {},
   "outputs": [],
   "source": [
    "spotify_dict=f.build_dict('SPOT')"
   ]
  },
  {
   "cell_type": "code",
   "execution_count": 10,
   "metadata": {},
   "outputs": [
    {
     "name": "stdout",
     "output_type": "stream",
     "text": [
      "symbol: SPOT\n",
      "price: 267.6\n",
      "beta: 0\n",
      "volAvg: 2997548\n",
      "mktCap: 5.0131116E10\n",
      "lastDiv: 0\n",
      "range: 109.18-299.67\n",
      "changes: 5.88\n",
      "changesPercentage: (+2.25%)\n",
      "companyName: Spotify Technology S.A.\n",
      "exchange: NYSE\n",
      "exchangeShortName: NYSE\n",
      "industry: Internet Content & Information\n",
      "website: http://www.spotify.com\n",
      "description: Spotify Technology S.A., together with its subsidiaries, provides audio streaming services worldwide. It operates through two segments, Premium and Ad-Supported. The Premium segment offers unlimited online and offline high-quality streaming access to its catalog of music and podcasts without commercial breaks to its subscribers. The Ad-Supported segment provides on-demand online access to its catalog of music and unlimited online access to the catalog of podcasts to its subscribers with no subscription fees. It also offers sales, marketing, contract research and development, and customer support services. As of December 31, 2019, the company's platform included 271 million monthly active users and 124 million premium subscribers in approximately 79 countries and territories. Spotify Technology S.A. has a licensing partnership with Saregama India Limited. Spotify Technology S.A. was founded in 2006 and is based in Stockholm, Sweden.\n",
      "ceo: Mr. Daniel G. Ek\n",
      "sector: Communication Services\n",
      "country: Sweden\n",
      "fullTimeEmployees: 5779\n",
      "phone: None\n",
      "address: Regeringsgatan 19\n",
      "city: Stockholm\n",
      "state: None\n",
      "zip: 111 53\n",
      "image: https://financialmodelingprep.com/images-New-jpg/SPOT.jpg\n",
      "date: 2018-12-31\n",
      "Revenue per Share: 29.715846665998313\n",
      "Net Income per Share: -0.4407370298437052\n",
      "Operating Cash Flow per Share: 1.9437633111055463\n",
      "Free Cash Flow per Share: 1.2374539684070613\n",
      "Cash per Share: 5.034572994752791\n",
      "Book Value per Share: 11.832094108879913\n",
      "Tangible Book Value per Share: 23.51727587447892\n",
      "Shareholders Equity per Share: 11.832094108879913\n",
      "Interest Debt per Share: 3.2998772490859887\n",
      "Market Cap: 2.776086543862712E10\n",
      "Enterprise Value: 2.673672750759262E10\n",
      "PE ratio: -309.6404222000479\n",
      "Price to Sales Ratio: 4.592499131318803\n",
      "POCF ratio: 70.20916549884899\n",
      "PFCF ratio: 110.28289009867079\n",
      "PB ratio: 11.533883921492825\n",
      "PTB ratio: 11.533883921492825\n",
      "EV to Sales: 4.423075286481378\n",
      "Enterprise Value over EBITDA: 52.50779442799847\n",
      "EV to Operating cash flow: 67.61904921977934\n",
      "EV to Free cash flow: 106.21439694798524\n",
      "Earnings Yield: -0.0032295525012362076\n",
      "Free Cash Flow Yield: 0.009067589715007412\n",
      "Debt to Equity: 1.0706781279847462\n",
      "Debt to Assets: 0.5170664206642132\n",
      "Net Debt to EBITDA: -2.011286681715414\n",
      "Current ratio: 1.0461108523521294\n",
      "Interest Coverage: 0.7037671232875908\n",
      "Income Quality: -4.410256410256353\n",
      "Dividend Yield: 0.0\n",
      "Payout Ratio: 0.0\n",
      "SG&A to Revenue: 0.17170564746150133\n",
      "R&D to Revenue: 0.17170564746150133\n",
      "Intangibles to Total Assets: 0.040129151291513\n",
      "Capex to Operating Cash Flow: -2.7520000000009466\n",
      "Capex to Revenue: -42.072000000011805\n",
      "Capex to Depreciation: -0.2560000000000557\n",
      "Stock-based compensation to Revenue: 0.01673321924320935\n",
      "Graham Number: 10.832079455188927\n",
      "ROIC: 0.18775696665141894\n",
      "Return on Tangible Assets: -0.018740989908699227\n",
      "Graham Net-Net: -0.7684645648559546\n",
      "Working Capital: 1.1379310344829988E8\n",
      "Tangible Asset Value: 2.2068965517241E9\n",
      "Net Current Asset Value: 4597701.149399757\n",
      "Invested Capital: 1291954022.9885\n",
      "Average Receivables: 4.459714920451E8\n",
      "Average Payables: 4.5008417159965E8\n",
      "Average Inventory: 0.0\n",
      "Days Sales Outstanding: 27.761931926219965\n",
      "Days Payables Outstanding: 39.90143369175219\n",
      "Days of Inventory on Hand: 0.0\n",
      "Receivables Turnover: 13.147500000000829\n",
      "Payables Turnover: 9.147540983607493\n",
      "Inventory Turnover: 0.0\n",
      "ROE: -0.03724928366762523\n",
      "Capex per Share: -0.7063093426979934\n",
      "currentRatio: 0.914719147191472\n",
      "quickRatio: 0.8421484214842149\n",
      "cashRatio: 0.43665436654366546\n",
      "daysOfSalesOutstanding: 16.026759314015376\n",
      "daysOfInventoryOutstanding: 0.0\n",
      "operatingCycle: 16.026759314015376\n",
      "daysOfPayablesOutstanding: 27.29174930583102\n",
      "cashConversionCycle: -11.264989991815643\n",
      "grossProfitMargin: 0.25458308693081017\n",
      "operatingProfitMargin: -0.010792430514488468\n",
      "pretaxProfitMargin: -0.019367238320520404\n",
      "netProfitMargin: -0.02749852158486103\n",
      "effectiveTaxRate: -0.4198473282442748\n",
      "returnOnAssets: -0.03631393986723936\n",
      "returnOnEquity: -0.09131075110456553\n",
      "returnOnCapitalEmployed: -0.048825941110696984\n",
      "netIncomePerEBT: 1.4198473282442747\n",
      "ebtPerEbit: 1.0\n",
      "ebitPerRevenue: -0.019367238320520404\n",
      "debtRatio: 0.6023037875829754\n",
      "debtEquityRatio: 1.5144820814923907\n",
      "longTermDebtToCapitalization: 0.23392252726588944\n",
      "totalDebtToCapitalization: None\n",
      "interestCoverage: None\n",
      "cashFlowToDebtRatio: None\n",
      "companyEquityMultiplier: 2.5144820814923907\n",
      "receivablesTurnover: 22.774410774410775\n",
      "payablesTurnover: 13.374005305039788\n",
      "inventoryTurnover: None\n",
      "fixedAssetTurnover: 8.671794871794871\n",
      "assetTurnover: 1.3205778992581023\n",
      "operatingCashFlowPerShare: 3.166435474510526\n",
      "freeCashFlowPerShare: 2.4204166454373652\n",
      "cashPerShare: 9.70929690875217\n",
      "payoutRatio: 0.0\n",
      "operatingCashFlowSalesRatio: 0.08471318746303962\n",
      "freeCashFlowOperatingCashFlowRatio: 0.7643979057591623\n",
      "cashFlowCoverageRatios: None\n",
      "shortTermCoverageRatios: None\n",
      "capitalExpenditureCoverageRatio: -4.2444444444444445\n",
      "dividendPaidAndCapexCoverageRatio: None\n",
      "dividendPayoutRatio: None\n",
      "priceBookValueRatio: 12.677901017083949\n",
      "priceToBookRatio: 12.677901017083949\n",
      "priceToSalesRatio: 3.8179900017445303\n",
      "priceEarningsRatio: -138.84346436451614\n",
      "priceToFreeCashFlowsRatio: 58.96092322328768\n",
      "priceToOperatingCashFlowsRatio: 45.069606233507855\n",
      "priceCashFlowRatio: 45.069606233507855\n",
      "priceEarningsToGrowthRatio: 322.1178697514381\n",
      "priceSalesRatio: 3.8179900017445303\n",
      "dividendYield: None\n",
      "enterpriseValueMultiple: -576.8610084500001\n",
      "priceFairValue: 12.677901017083949\n"
     ]
    }
   ],
   "source": [
    "for k,v in spotify_dict.items():\n",
    "    print(\"{}: {}\".format(k,v))"
   ]
  },
  {
   "cell_type": "code",
   "execution_count": 16,
   "metadata": {},
   "outputs": [
    {
     "name": "stderr",
     "output_type": "stream",
     "text": [
      "C:\\Users\\Nick.DeRitis\\OneDrive - Travelopia USA Inc\\Zegrahm & IE\\Python\\Spotify Analysis\\FinanceAPI.py:193: FutureWarning: The pandas.np module is deprecated and will be removed from pandas in a future version. Import numpy directly instead\n",
      "  self.df.fillna(value=pd.np.nan, inplace=True)\n"
     ]
    }
   ],
   "source": [
    "df=f.build_dataframe(['SPOT','AAPL','AMZN','SIRI'])\n",
    "#Includes Spotify, Sirius/SoundCloud, Apple, and Amazon"
   ]
  },
  {
   "cell_type": "code",
   "execution_count": 17,
   "metadata": {},
   "outputs": [
    {
     "data": {
      "text/html": [
       "<div>\n",
       "<style scoped>\n",
       "    .dataframe tbody tr th:only-of-type {\n",
       "        vertical-align: middle;\n",
       "    }\n",
       "\n",
       "    .dataframe tbody tr th {\n",
       "        vertical-align: top;\n",
       "    }\n",
       "\n",
       "    .dataframe thead th {\n",
       "        text-align: right;\n",
       "    }\n",
       "</style>\n",
       "<table border=\"1\" class=\"dataframe\">\n",
       "  <thead>\n",
       "    <tr style=\"text-align: right;\">\n",
       "      <th></th>\n",
       "      <th>symbol</th>\n",
       "      <th>price</th>\n",
       "      <th>beta</th>\n",
       "      <th>volAvg</th>\n",
       "      <th>mktCap</th>\n",
       "      <th>lastDiv</th>\n",
       "      <th>range</th>\n",
       "      <th>changes</th>\n",
       "      <th>changesPercentage</th>\n",
       "      <th>companyName</th>\n",
       "      <th>...</th>\n",
       "      <th>priceToSalesRatio</th>\n",
       "      <th>priceEarningsRatio</th>\n",
       "      <th>priceToFreeCashFlowsRatio</th>\n",
       "      <th>priceToOperatingCashFlowsRatio</th>\n",
       "      <th>priceCashFlowRatio</th>\n",
       "      <th>priceEarningsToGrowthRatio</th>\n",
       "      <th>priceSalesRatio</th>\n",
       "      <th>dividendYield</th>\n",
       "      <th>enterpriseValueMultiple</th>\n",
       "      <th>priceFairValue</th>\n",
       "    </tr>\n",
       "  </thead>\n",
       "  <tbody>\n",
       "    <tr>\n",
       "      <th>0</th>\n",
       "      <td>SPOT</td>\n",
       "      <td>266.590</td>\n",
       "      <td>0.000000</td>\n",
       "      <td>2997548.0</td>\n",
       "      <td>4.994190e+10</td>\n",
       "      <td>0.000</td>\n",
       "      <td>109.18-299.67</td>\n",
       "      <td>4.870</td>\n",
       "      <td>(+1.86%)</td>\n",
       "      <td>Spotify Technology S.A.</td>\n",
       "      <td>...</td>\n",
       "      <td>3.817990</td>\n",
       "      <td>-138.843464</td>\n",
       "      <td>58.960923</td>\n",
       "      <td>45.069606</td>\n",
       "      <td>45.069606</td>\n",
       "      <td>322.117870</td>\n",
       "      <td>3.817990</td>\n",
       "      <td>NaN</td>\n",
       "      <td>-576.861008</td>\n",
       "      <td>12.677901</td>\n",
       "    </tr>\n",
       "    <tr>\n",
       "      <th>1</th>\n",
       "      <td>AAPL</td>\n",
       "      <td>468.673</td>\n",
       "      <td>1.228499</td>\n",
       "      <td>36721723.0</td>\n",
       "      <td>2.003872e+12</td>\n",
       "      <td>3.180</td>\n",
       "      <td>201.0-470.5</td>\n",
       "      <td>5.843</td>\n",
       "      <td>(+1.26%)</td>\n",
       "      <td>Apple Inc.</td>\n",
       "      <td>...</td>\n",
       "      <td>4.450144</td>\n",
       "      <td>20.953594</td>\n",
       "      <td>19.658581</td>\n",
       "      <td>16.685331</td>\n",
       "      <td>16.685331</td>\n",
       "      <td>1.636314</td>\n",
       "      <td>4.450144</td>\n",
       "      <td>0.012195</td>\n",
       "      <td>14.741690</td>\n",
       "      <td>12.795197</td>\n",
       "    </tr>\n",
       "    <tr>\n",
       "      <th>2</th>\n",
       "      <td>AMZN</td>\n",
       "      <td>3277.580</td>\n",
       "      <td>1.516863</td>\n",
       "      <td>4573910.0</td>\n",
       "      <td>1.641707e+12</td>\n",
       "      <td>0.000</td>\n",
       "      <td>1626.03-3344.29</td>\n",
       "      <td>17.100</td>\n",
       "      <td>(+0.52%)</td>\n",
       "      <td>Amazon.com Inc.</td>\n",
       "      <td>...</td>\n",
       "      <td>3.360958</td>\n",
       "      <td>81.361988</td>\n",
       "      <td>43.542360</td>\n",
       "      <td>24.480000</td>\n",
       "      <td>24.480000</td>\n",
       "      <td>4.070926</td>\n",
       "      <td>3.360958</td>\n",
       "      <td>NaN</td>\n",
       "      <td>25.360492</td>\n",
       "      <td>15.192116</td>\n",
       "    </tr>\n",
       "    <tr>\n",
       "      <th>3</th>\n",
       "      <td>SIRI</td>\n",
       "      <td>5.805</td>\n",
       "      <td>1.011804</td>\n",
       "      <td>28651557.0</td>\n",
       "      <td>2.519538e+10</td>\n",
       "      <td>0.052</td>\n",
       "      <td>4.11-7.4</td>\n",
       "      <td>-0.065</td>\n",
       "      <td>(-1.11%)</td>\n",
       "      <td>Sirius XM Holdings Inc.</td>\n",
       "      <td>...</td>\n",
       "      <td>4.258281</td>\n",
       "      <td>36.311860</td>\n",
       "      <td>20.065925</td>\n",
       "      <td>16.454655</td>\n",
       "      <td>16.454655</td>\n",
       "      <td>142.543195</td>\n",
       "      <td>4.258281</td>\n",
       "      <td>0.006809</td>\n",
       "      <td>19.914861</td>\n",
       "      <td>-45.093804</td>\n",
       "    </tr>\n",
       "  </tbody>\n",
       "</table>\n",
       "<p>4 rows × 137 columns</p>\n",
       "</div>"
      ],
      "text/plain": [
       "  symbol     price      beta      volAvg        mktCap  lastDiv  \\\n",
       "0   SPOT   266.590  0.000000   2997548.0  4.994190e+10    0.000   \n",
       "1   AAPL   468.673  1.228499  36721723.0  2.003872e+12    3.180   \n",
       "2   AMZN  3277.580  1.516863   4573910.0  1.641707e+12    0.000   \n",
       "3   SIRI     5.805  1.011804  28651557.0  2.519538e+10    0.052   \n",
       "\n",
       "             range  changes changesPercentage              companyName  ...  \\\n",
       "0    109.18-299.67    4.870          (+1.86%)  Spotify Technology S.A.  ...   \n",
       "1      201.0-470.5    5.843          (+1.26%)               Apple Inc.  ...   \n",
       "2  1626.03-3344.29   17.100          (+0.52%)          Amazon.com Inc.  ...   \n",
       "3         4.11-7.4   -0.065          (-1.11%)  Sirius XM Holdings Inc.  ...   \n",
       "\n",
       "  priceToSalesRatio priceEarningsRatio priceToFreeCashFlowsRatio  \\\n",
       "0          3.817990        -138.843464                 58.960923   \n",
       "1          4.450144          20.953594                 19.658581   \n",
       "2          3.360958          81.361988                 43.542360   \n",
       "3          4.258281          36.311860                 20.065925   \n",
       "\n",
       "  priceToOperatingCashFlowsRatio priceCashFlowRatio  \\\n",
       "0                      45.069606          45.069606   \n",
       "1                      16.685331          16.685331   \n",
       "2                      24.480000          24.480000   \n",
       "3                      16.454655          16.454655   \n",
       "\n",
       "  priceEarningsToGrowthRatio priceSalesRatio dividendYield  \\\n",
       "0                 322.117870        3.817990           NaN   \n",
       "1                   1.636314        4.450144      0.012195   \n",
       "2                   4.070926        3.360958           NaN   \n",
       "3                 142.543195        4.258281      0.006809   \n",
       "\n",
       "   enterpriseValueMultiple priceFairValue  \n",
       "0              -576.861008      12.677901  \n",
       "1                14.741690      12.795197  \n",
       "2                25.360492      15.192116  \n",
       "3                19.914861     -45.093804  \n",
       "\n",
       "[4 rows x 137 columns]"
      ]
     },
     "execution_count": 17,
     "metadata": {},
     "output_type": "execute_result"
    }
   ],
   "source": [
    "df.head(10)"
   ]
  },
  {
   "cell_type": "code",
   "execution_count": 13,
   "metadata": {},
   "outputs": [
    {
     "name": "stdout",
     "output_type": "stream",
     "text": [
      "Following data are available for metrics\n",
      "============================================================\n",
      "date, Revenue per Share, Net Income per Share, Operating Cash Flow per Share, Free Cash Flow per Share, Cash per Share, Book Value per Share, Tangible Book Value per Share, Shareholders Equity per Share, Interest Debt per Share, Market Cap, Enterprise Value, PE ratio, Price to Sales Ratio, POCF ratio, PFCF ratio, PB ratio, PTB ratio, EV to Sales, Enterprise Value over EBITDA, EV to Operating cash flow, EV to Free cash flow, Earnings Yield, Free Cash Flow Yield, Debt to Equity, Debt to Assets, Net Debt to EBITDA, Current ratio, Interest Coverage, Income Quality, Dividend Yield, Payout Ratio, SG&A to Revenue, R&D to Revenue, Intangibles to Total Assets, Capex to Operating Cash Flow, Capex to Revenue, Capex to Depreciation, Stock-based compensation to Revenue, Graham Number, ROIC, Return on Tangible Assets, Graham Net-Net, Working Capital, Tangible Asset Value, Net Current Asset Value, Invested Capital, Average Receivables, Average Payables, Average Inventory, Days Sales Outstanding, Days Payables Outstanding, Days of Inventory on Hand, Receivables Turnover, Payables Turnover, Inventory Turnover, ROE, Capex per Share."
     ]
    }
   ],
   "source": [
    "f.available_data('metrics')"
   ]
  },
  {
   "cell_type": "code",
   "execution_count": 14,
   "metadata": {},
   "outputs": [
    {
     "data": {
      "image/png": "[encoded data removed]",
      "text/plain": [
       "<Figure size 720x288 with 1 Axes>"
      ]
     },
     "metadata": {
      "needs_background": "light"
     },
     "output_type": "display_data"
    }
   ],
   "source": [
    "f.bar_chart('ROE',color='blue', edgecolor='k')"
   ]
  },
  {
   "cell_type": "code",
   "execution_count": 67,
   "metadata": {},
   "outputs": [
    {
     "data": {
      "image/png": "[encoded data removed]",
      "text/plain": [
       "<Figure size 720x288 with 1 Axes>"
      ]
     },
     "metadata": {
      "needs_background": "light"
     },
     "output_type": "display_data"
    }
   ],
   "source": [
    "f.bar_chart('quickRatio',color='blue', edgecolor='k')"
   ]
  },
  {
   "cell_type": "code",
   "execution_count": 68,
   "metadata": {},
   "outputs": [
    {
     "data": {
      "text/plain": [
       "<Figure size 432x288 with 0 Axes>"
      ]
     },
     "metadata": {},
     "output_type": "display_data"
    },
    {
     "data": {
      "image/png": "[encoded data removed]",
      "text/plain": [
       "<Figure size 720x288 with 1 Axes>"
      ]
     },
     "metadata": {
      "needs_background": "light"
     },
     "output_type": "display_data"
    }
   ],
   "source": [
    "fig = plt.figure()\n",
    "fig.patch.set_facecolor('black')\n",
    "f.bar_chart('quickRatio',color='blue', edgecolor='k')"
   ]
  },
  {
   "cell_type": "code",
   "execution_count": 19,
   "metadata": {},
   "outputs": [],
   "source": [
    "df.to_excel(excel_writer='spotify_data_frame2.xlsx',index=False)"
   ]
  },
  {
   "cell_type": "code",
   "execution_count": null,
   "metadata": {},
   "outputs": [],
   "source": []
  }
 ],
 "metadata": {
  "kernelspec": {
   "display_name": "Python 3",
   "language": "python",
   "name": "python3"
  },
  "language_info": {
   "codemirror_mode": {
    "name": "ipython",
    "version": 3
   },
   "file_extension": ".py",
   "mimetype": "text/x-python",
   "name": "python",
   "nbconvert_exporter": "python",
   "pygments_lexer": "ipython3",
   "version": "3.8.3"
  }
 },
 "nbformat": 4,
 "nbformat_minor": 4
}
